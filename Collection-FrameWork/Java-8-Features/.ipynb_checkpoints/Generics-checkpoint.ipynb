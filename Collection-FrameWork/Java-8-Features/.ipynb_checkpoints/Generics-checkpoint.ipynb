{
 "cells": [
  {
   "cell_type": "markdown",
   "id": "fec2ae40",
   "metadata": {},
   "source": [
    "### Introduction \n",
    "\n",
    "\n",
    "- Generics means parameterized types. \n",
    "- The idea is to allow type (Integer, String, … etc., and user-defined types) to be a parameter to methods, classes, and interfaces. \n",
    "\n",
    "\n",
    "- Using Generics, it is possible to create classes that work with different data types. \n",
    "\n",
    "- An entity such as class, interface, or method that operates on a parameterized type is a generic entity.\n",
    "\n",
    "\n",
    "\n",
    "![](https://i.imgur.com/mnU9o0P.png)"
   ]
  },
  {
   "cell_type": "code",
   "execution_count": null,
   "id": "ecbb8d40",
   "metadata": {},
   "outputs": [],
   "source": []
  },
  {
   "cell_type": "markdown",
   "id": "58497b89",
   "metadata": {},
   "source": [
    "### Why Generics?\n",
    "\n",
    "- The Object is the superclass of all other classes, and Object reference can refer to any object. \n",
    "- These features lack type safety. \n",
    "- Java is Strongly typed language.\n",
    "- Generics add that type of safety feature. \n",
    "\n",
    "Generics in Java are similar to templates in C++. \n",
    "\n",
    "For example, classes like HashSet, ArrayList, HashMap, etc., use generics very well. There are some fundamental differences between the two approaches to generic types. "
   ]
  },
  {
   "cell_type": "code",
   "execution_count": null,
   "id": "161b56d5",
   "metadata": {},
   "outputs": [],
   "source": []
  },
  {
   "cell_type": "markdown",
   "id": "e32d04d7",
   "metadata": {},
   "source": [
    "### Without Generic\n",
    "\n",
    "![](https://i.imgur.com/OTCeDcH.png)"
   ]
  },
  {
   "cell_type": "markdown",
   "id": "5ec6d7df",
   "metadata": {},
   "source": [
    "### Solution\n",
    "\n",
    "![](https://i.imgur.com/OewltUI.png)\n"
   ]
  },
  {
   "cell_type": "code",
   "execution_count": null,
   "id": "0a1f83f6",
   "metadata": {},
   "outputs": [],
   "source": []
  },
  {
   "cell_type": "code",
   "execution_count": null,
   "id": "5cfff5e1",
   "metadata": {},
   "outputs": [],
   "source": []
  },
  {
   "cell_type": "code",
   "execution_count": null,
   "id": "4e42d542",
   "metadata": {
    "scrolled": true
   },
   "outputs": [],
   "source": []
  },
  {
   "cell_type": "code",
   "execution_count": null,
   "id": "fdd6d288",
   "metadata": {},
   "outputs": [],
   "source": []
  }
 ],
 "metadata": {
  "kernelspec": {
   "display_name": "Python 3 (ipykernel)",
   "language": "python",
   "name": "python3"
  },
  "language_info": {
   "codemirror_mode": {
    "name": "ipython",
    "version": 3
   },
   "file_extension": ".py",
   "mimetype": "text/x-python",
   "name": "python",
   "nbconvert_exporter": "python",
   "pygments_lexer": "ipython3",
   "version": "3.10.9"
  }
 },
 "nbformat": 4,
 "nbformat_minor": 5
}
