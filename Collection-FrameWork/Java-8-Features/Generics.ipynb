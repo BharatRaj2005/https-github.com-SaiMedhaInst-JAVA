{
 "cells": [
  {
   "cell_type": "markdown",
   "id": "c046e530",
   "metadata": {},
   "source": [
    "### Introduction \n",
    "\n",
    "\n",
    "- Generics means parameterized types. \n",
    "- The idea is to allow type (Integer, String, … etc., and user-defined types) to be a parameter to methods, classes, and interfaces. \n",
    "\n",
    "\n",
    "- Using Generics, it is possible to create classes that work with different data types. \n",
    "\n",
    "- An entity such as class, interface, or method that operates on a parameterized type is a generic entity.\n",
    "\n",
    "\n",
    "\n",
    "![](https://i.imgur.com/mnU9o0P.png)"
   ]
  },
  {
   "cell_type": "code",
   "execution_count": null,
   "id": "512a772e",
   "metadata": {},
   "outputs": [],
   "source": []
  },
  {
   "cell_type": "markdown",
   "id": "63c6b378",
   "metadata": {},
   "source": [
    "### Why Generics?\n",
    "\n",
    "- The Object is the superclass of all other classes, and Object reference can refer to any object. \n",
    "- These features lack type safety. \n",
    "- Java is Strongly typed language.\n",
    "- Generics add that type of safety feature. \n",
    "\n",
    "Generics in Java are similar to templates in C++. \n",
    "\n",
    "For example, classes like HashSet, ArrayList, HashMap, etc., use generics very well. There are some fundamental differences between the two approaches to generic types. "
   ]
  },
  {
   "cell_type": "code",
   "execution_count": null,
   "id": "c774dd32",
   "metadata": {},
   "outputs": [],
   "source": []
  },
  {
   "cell_type": "markdown",
   "id": "745c85c4",
   "metadata": {},
   "source": [
    "### Without Generic\n",
    "\n",
    "![](https://i.imgur.com/OTCeDcH.png)"
   ]
  },
  {
   "cell_type": "markdown",
   "id": "f9ce33d3",
   "metadata": {},
   "source": [
    "### Solution\n",
    "\n",
    "![](https://i.imgur.com/OewltUI.png)\n"
   ]
  },
  {
   "cell_type": "code",
   "execution_count": null,
   "id": "146e5675",
   "metadata": {},
   "outputs": [],
   "source": []
  },
  {
   "cell_type": "code",
   "execution_count": null,
   "id": "d76e2a38",
   "metadata": {},
   "outputs": [],
   "source": []
  },
  {
   "cell_type": "code",
   "execution_count": null,
   "id": "bbc811b7",
   "metadata": {
    "scrolled": true
   },
   "outputs": [],
   "source": []
  },
  {
   "cell_type": "markdown",
   "id": "1f901c28",
   "metadata": {},
   "source": [
    "### Observations\n",
    "\n",
    "- Generics only accepts Wrapper Classes Types not primitives types.\n",
    "\n",
    "\n",
    "- Before Java 5 , it is explicit(manual)\n",
    "    - Boxing : primitive --> Wrapper\n",
    "    - UnBoxing : Wrapper --> Primitive \n",
    "  \n",
    "  \n",
    "  \n",
    "- With Generic introduction in java 5 , \n",
    "    - Auto Boxing , Auto UnBoxing is implicit. (automatic)\n",
    "\n",
    "\n",
    "![](https://i.imgur.com/Pc72V7d.png)"
   ]
  },
  {
   "cell_type": "code",
   "execution_count": null,
   "id": "8799671d",
   "metadata": {},
   "outputs": [],
   "source": []
  },
  {
   "cell_type": "code",
   "execution_count": null,
   "id": "ffdc90ef",
   "metadata": {},
   "outputs": [],
   "source": []
  },
  {
   "cell_type": "code",
   "execution_count": null,
   "id": "042d813c",
   "metadata": {},
   "outputs": [],
   "source": []
  },
  {
   "cell_type": "markdown",
   "id": "228ff3ab",
   "metadata": {},
   "source": [
    "### Type Erasure\n",
    "\n",
    "\n",
    "- Bridge methods are the methods created by JVM automatically at runtime \n",
    "    \n",
    "    ex: Default No Args Constructor in In Every User Defined Class. \n"
   ]
  },
  {
   "cell_type": "markdown",
   "id": "0b133f7f",
   "metadata": {},
   "source": [
    "\n",
    "![](https://i.imgur.com/i8byUM4.png)"
   ]
  },
  {
   "cell_type": "code",
   "execution_count": null,
   "id": "6ab3e061",
   "metadata": {},
   "outputs": [],
   "source": [
    "\n"
   ]
  },
  {
   "cell_type": "markdown",
   "id": "5be28129",
   "metadata": {},
   "source": [
    "![](https://i.imgur.com/43G7cy4.png)"
   ]
  },
  {
   "cell_type": "code",
   "execution_count": null,
   "id": "697d9b18",
   "metadata": {},
   "outputs": [],
   "source": []
  },
  {
   "cell_type": "markdown",
   "id": "afaf5e2b",
   "metadata": {},
   "source": [
    "### Examples\n",
    "\n",
    "- Parameter Type is bound to the only the expression \n",
    "   ``` \n",
    "    List<Integer> nums = new ArrayList<Integer>();\n",
    "    \n",
    "    ```\n",
    "    \n",
    "- Type Information and safety check is not applied for the instance/object when passed to Different method"
   ]
  },
  {
   "cell_type": "markdown",
   "id": "832e30cc",
   "metadata": {},
   "source": [
    "![](https://i.imgur.com/6tmSyjX.png)"
   ]
  },
  {
   "cell_type": "code",
   "execution_count": null,
   "id": "631644b4",
   "metadata": {},
   "outputs": [],
   "source": []
  },
  {
   "cell_type": "markdown",
   "id": "0b478843",
   "metadata": {},
   "source": [
    "![](https://i.imgur.com/7P8dDGT.png)"
   ]
  },
  {
   "cell_type": "code",
   "execution_count": null,
   "id": "cf4fbab8",
   "metadata": {},
   "outputs": [],
   "source": []
  },
  {
   "cell_type": "code",
   "execution_count": null,
   "id": "5c6ea624",
   "metadata": {},
   "outputs": [],
   "source": []
  },
  {
   "cell_type": "markdown",
   "id": "c9d7ba35",
   "metadata": {},
   "source": [
    "### Use - Case"
   ]
  },
  {
   "cell_type": "markdown",
   "id": "fe25b1f9",
   "metadata": {},
   "source": []
  },
  {
   "cell_type": "markdown",
   "id": "71e4a3f2",
   "metadata": {},
   "source": [
    "![](https://i.imgur.com/bhdozhW.png)\n",
    "\n",
    "![](https://i.imgur.com/kpc2WjP.png)"
   ]
  },
  {
   "cell_type": "markdown",
   "id": "07ea82d7",
   "metadata": {},
   "source": [
    "![](https://i.imgur.com/rZMk1XR.png)"
   ]
  },
  {
   "cell_type": "code",
   "execution_count": null,
   "id": "1b4e44f5",
   "metadata": {},
   "outputs": [],
   "source": []
  }
 ],
 "metadata": {
  "kernelspec": {
   "display_name": "Python 3 (ipykernel)",
   "language": "python",
   "name": "python3"
  },
  "language_info": {
   "codemirror_mode": {
    "name": "ipython",
    "version": 3
   },
   "file_extension": ".py",
   "mimetype": "text/x-python",
   "name": "python",
   "nbconvert_exporter": "python",
   "pygments_lexer": "ipython3",
   "version": "3.10.9"
  }
 },
 "nbformat": 4,
 "nbformat_minor": 5
}
